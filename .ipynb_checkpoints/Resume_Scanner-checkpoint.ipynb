{
 "cells": [
  {
   "cell_type": "code",
   "execution_count": 1,
   "id": "c987833b-0530-459a-95fe-b0a158650535",
   "metadata": {},
   "outputs": [],
   "source": [
    "# pip install docx2txt\n",
    "\n",
    "import docx2txt\n",
    "from sklearn.feature_extraction.text import CountVectorizer\n",
    "from sklearn.metrics.pairwise import cosine_similarity"
   ]
  },
  {
   "cell_type": "code",
   "execution_count": 2,
   "id": "7a209809-571b-45c1-910a-8781a90058ca",
   "metadata": {},
   "outputs": [],
   "source": [
    "job_description = docx2txt.process('sample_description.docx')\n",
    "resume = docx2txt.process('Deep_Bhojak_Resume_fintech.docx')"
   ]
  },
  {
   "cell_type": "code",
   "execution_count": 3,
   "id": "346a9a8c-ea05-434c-9848-1e22e3a39762",
   "metadata": {},
   "outputs": [
    {
     "name": "stdout",
     "output_type": "stream",
     "text": [
      "At least 2 years of experience with the following (Python, Scikit-learn, Tensorflow/PyTorch, Pandas, Numpy, Matplotlib, SQL, Git, Linux/Command line, Conda environments, etc.)\n",
      "\n",
      "Formal academic training in math, statistics, software engineering, or similar - OR - an equivalent amount of hands-on experience and self-directed learning.\n",
      "\n",
      "Ability to explore patterns in data and find insights\n",
      "\n",
      "Ability to produce effective data visualizations\n",
      "\n",
      "Effective verbal and written communication skills\n",
      "\n",
      "Self-sufficient/capable in terms of researching and finding answers to problems and roadblocks\n",
      "\n",
      "Good understanding of machine learning algorithms and when/why to apply them\n",
      "\n",
      "Good understanding of model evaluation\n",
      "\n",
      "Good back-end web development skills. We need you to be able to set up servers to handle inference requests.\n",
      "\n",
      "A well-rounded knowledge of modern development practices including version control systems, agile development methodologies, cloud servers and services, and so on.\n"
     ]
    }
   ],
   "source": [
    "print(job_description)"
   ]
  },
  {
   "cell_type": "code",
   "execution_count": 4,
   "id": "198bb759-e8e1-4342-b4d6-329c7c9e01f8",
   "metadata": {},
   "outputs": [],
   "source": [
    "content = [job_description, resume]"
   ]
  },
  {
   "cell_type": "code",
   "execution_count": 5,
   "id": "5d6ebf57-b53d-428d-a357-9137fe76858b",
   "metadata": {},
   "outputs": [],
   "source": [
    "def resume_scanner(contents):\n",
    "    cv = CountVectorizer()\n",
    "    count_matrix = cv.fit_transform(contents)\n",
    "    mat = cosine_similarity(count_matrix)\n",
    "    \n",
    "    print('Resume Matches by: '+  str(mat[1][0]*100) + '%')"
   ]
  },
  {
   "cell_type": "code",
   "execution_count": 6,
   "id": "1da7fe7e-8efc-4c45-9949-8c9ecdf5789c",
   "metadata": {},
   "outputs": [
    {
     "name": "stdout",
     "output_type": "stream",
     "text": [
      "Resume Matches by: 57.26582446385009%\n"
     ]
    }
   ],
   "source": [
    "resume_scanner(content)"
   ]
  }
 ],
 "metadata": {
  "kernelspec": {
   "display_name": "Python 3 (ipykernel)",
   "language": "python",
   "name": "python3"
  },
  "language_info": {
   "codemirror_mode": {
    "name": "ipython",
    "version": 3
   },
   "file_extension": ".py",
   "mimetype": "text/x-python",
   "name": "python",
   "nbconvert_exporter": "python",
   "pygments_lexer": "ipython3",
   "version": "3.8.8"
  }
 },
 "nbformat": 4,
 "nbformat_minor": 5
}
